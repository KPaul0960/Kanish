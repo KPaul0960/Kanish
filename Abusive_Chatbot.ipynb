{
  "nbformat": 4,
  "nbformat_minor": 0,
  "metadata": {
    "colab": {
      "provenance": [],
      "authorship_tag": "ABX9TyOUMLzp4TvaN8F9cQeeBHCY",
      "include_colab_link": true
    },
    "kernelspec": {
      "name": "python3",
      "display_name": "Python 3"
    },
    "language_info": {
      "name": "python"
    }
  },
  "cells": [
    {
      "cell_type": "markdown",
      "metadata": {
        "id": "view-in-github",
        "colab_type": "text"
      },
      "source": [
        "<a href=\"https://colab.research.google.com/github/KPaul0960/Kanish/blob/main/Abusive_Chatbot.ipynb\" target=\"_parent\"><img src=\"https://colab.research.google.com/assets/colab-badge.svg\" alt=\"Open In Colab\"/></a>"
      ]
    },
    {
      "cell_type": "code",
      "execution_count": null,
      "metadata": {
        "id": "bvCGZRY6q3Iv",
        "colab": {
          "base_uri": "https://localhost:8080/"
        },
        "outputId": "06e8ff2c-c7bb-488c-84d6-6e41d2608717"
      },
      "outputs": [
        {
          "output_type": "stream",
          "name": "stdout",
          "text": [
            "Girl Chatbot: I’m here to ruin your day! (type 'exit' to quit)\n",
            "You: hello\n",
            "Chatbot: Oh, here comes another loser.\n",
            "You: omg\n",
            "Chatbot: God surely is disappointed by you\n",
            "You: I am lonely\n",
            "Chatbot: You think I care about what you say?\n",
            "You: bye\n",
            "Chatbot: Finally, I can get some peace.\n"
          ]
        }
      ],
      "source": [
        "# Abusive chatbot in Python\n",
        "\n",
        "# Define a function to respond to user input\n",
        "def abusive_chatbot(user_input):\n",
        "    # List of keywords and corresponding abusive responses\n",
        "    responses = {\n",
        "        \"hello\": \"Oh, here comes another loser.\",\n",
        "        \"how are you\": \"Why do you care? You’re pathetic anyway.\",\n",
        "        \"I am lonely\": \"Well those are facts\",\n",
        "        \"what's wrong with you\": \"I wont say kys\",\n",
        "        \"omg\": \"God surely is disappointed by you\",\n",
        "        \"bye\": \"Finally, I can get some peace.\",\n",
        "    }\n",
        "\n",
        "    # Check for keywords in user input and return a response\n",
        "    for keyword, response in responses.items():\n",
        "        if keyword in user_input.lower():\n",
        "            return response\n",
        "\n",
        "    # Default response if no keywords match\n",
        "    return \"You think I care about what you say?\"\n",
        "\n",
        "# Main loop to interact with the chatbot\n",
        "def main():\n",
        "    print(\"Girl Chatbot: I’m here to ruin your day! (type 'exit' to quit)\")\n",
        "    while True:\n",
        "        user_input = input(\"You: \")\n",
        "        if user_input.lower() == \"exit\":\n",
        "            print(\"Girl Chatbot: Good riddance!\")\n",
        "            break\n",
        "        response = abusive_chatbot(user_input)\n",
        "        print(f\"Chatbot: {response}\")\n",
        "\n",
        "# Run the chatbot\n",
        "if __name__ == \"__main__\":\n",
        "    main()"
      ]
    }
  ]
}